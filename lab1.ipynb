{
 "cells": [
  {
   "cell_type": "code",
   "execution_count": 11,
   "metadata": {},
   "outputs": [
    {
     "name": "stdout",
     "output_type": "stream",
     "text": [
      "209.77999877929688\n",
      "74.33351135253906\n",
      "1898.010009765625\n",
      "329.80999755859375\n",
      "1367.3699951171875\n"
     ]
    }
   ],
   "source": [
    "#!/usr/bin/env python3\n",
    "# -*- coding: utf-8 -*-\n",
    "\"\"\"\n",
    "Created on Fri Mar  5 20:34:21 2021\n",
    "\n",
    "@author: pimi\n",
    "\"\"\"\n",
    "import pandas as pd\n",
    "import ffn\n",
    "import matplotlib.pyplot as plt\n",
    "import matplotlib\n",
    "matplotlib.use(\"TkAgg\")\n",
    "\n",
    "oriList=['fb','aapl','amzn','nflx','goog']\n",
    "newList=['fb_new','aapl_new','amzn_new','nflx_new','goog_new']\n",
    "df = ffn.get('fb, aapl, amzn, nflx, goog', start = \"2020-1-2\")\n",
    "df_new=df.copy()\n",
    "df_rebase=df.copy()\n",
    "df_rebase=pd.DataFrame(df_rebase)\n",
    "\n",
    "#plot pic1(not use rebase)\n",
    "def US1Dollar(newColumn,column):\n",
    "    df_new[newColumn]=df_new[column]/df_new.iloc[0].loc[column]*100\n",
    "    print(df_new.iloc[0].loc[column])\n",
    "    return df_new\n",
    "\n",
    "plt.rcParams[\"figure.figsize\"]=(20,10)\n",
    "for i ,j in zip(newList,oriList):\n",
    "    df_new=US1Dollar(i, j)\n",
    "    plt.plot(df_new.index,df_new[i])\n",
    "plt.legend(oriList)\n",
    "plt.grid(True)\n",
    "plt.show()\n",
    "plt.savefig(\"lab1_1.png\")\n",
    "plt.clf()\n",
    "\n",
    "#plot pic(use rebase)\n",
    "plt.rcParams[\"figure.figsize\"]=(20,10)\n",
    "df_rebase.rebase().plot()\n",
    "plt.grid(True)\n",
    "plt.show()\n",
    "plt.savefig(\"lab1_2.png\")"
   ]
  },
  {
   "cell_type": "code",
   "execution_count": null,
   "metadata": {},
   "outputs": [],
   "source": []
  }
 ],
 "metadata": {
  "kernelspec": {
   "display_name": "Python 3",
   "language": "python",
   "name": "python3"
  },
  "language_info": {
   "codemirror_mode": {
    "name": "ipython",
    "version": 3
   },
   "file_extension": ".py",
   "mimetype": "text/x-python",
   "name": "python",
   "nbconvert_exporter": "python",
   "pygments_lexer": "ipython3",
   "version": "3.8.5"
  }
 },
 "nbformat": 4,
 "nbformat_minor": 4
}
